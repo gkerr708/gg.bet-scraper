{
 "cells": [
  {
   "cell_type": "code",
   "execution_count": 74,
   "metadata": {},
   "outputs": [],
   "source": [
    "import cv2, mss, mss.tools, cv2, imutils, pyautogui, numpy as np, matplotlib.pyplot as plt, os\n",
    "from pytesseract import pytesseract\n",
    "from selenium.webdriver.chrome.options import Options\n",
    "from time import sleep\n",
    "from selenium import webdriver\n",
    "from pytesseract import Output\n",
    "pytesseract.tesseract_cmd = r\"F:\\Program Files\\Tesseract-OCR\\tesseract.exe\""
   ]
  },
  {
   "cell_type": "code",
   "execution_count": 75,
   "metadata": {},
   "outputs": [
    {
     "name": "stderr",
     "output_type": "stream",
     "text": [
      "C:\\Users\\gkerr\\AppData\\Local\\Temp\\ipykernel_22848\\3523347682.py:8: DeprecationWarning: executable_path has been deprecated, please pass in a Service object\n",
      "  driver = webdriver.Chrome(executable_path=r'C:\\Users\\gkerr\\Desktop\\vs-code\\webscraping\\chromedriver.exe', options=chrome_options)\n"
     ]
    }
   ],
   "source": [
    "def get_screenshot(filename=\"image.tif\", url=\"https://gg.bet/en/\"):\n",
    "    chrome_options = Options()\n",
    "    chrome_options.add_argument(\"--disable-infobars\")\n",
    "    chrome_options.add_argument(\"--start-maximized\")\n",
    "    chrome_options.add_experimental_option(\"excludeSwitches\", [\"enable-automation\"])\n",
    "    chrome_options.add_experimental_option('useAutomationExtension', False)\n",
    "    chrome_options.add_argument(r\"user-data-dir=C:\\Users\\gkerr\\AppData\\Local\\Google\\Chrome\\User Data\\Ninja\")\n",
    "    driver = webdriver.Chrome(executable_path=r'C:\\Users\\gkerr\\Desktop\\vs-code\\webscraping\\chromedriver.exe', options=chrome_options)\n",
    "    driver.get(url)\n",
    "    sleep(5)\n",
    "    screenshot = pyautogui.screenshot()\n",
    "    screenshot.save(os.path.join('screenshots', filename))\n",
    "    sleep(1)\n",
    "    driver.close()\n",
    "get_screenshot()"
   ]
  },
  {
   "cell_type": "code",
   "execution_count": 79,
   "metadata": {},
   "outputs": [],
   "source": [
    "def get_winner_pos(img):\n",
    "    d = pytesseract.image_to_data(img, output_type=Output.DICT)\n",
    "    positions = []\n",
    "    for i, word in enumerate(d['text']):\n",
    "        if word == \"Winner\":\n",
    "            pos = d['top'][i], d['left'][i]\n",
    "            positions.append(pos)\n",
    "    return positions"
   ]
  },
  {
   "cell_type": "code",
   "execution_count": 85,
   "metadata": {},
   "outputs": [
    {
     "data": {
      "text/plain": [
       "(386, 1013)"
      ]
     },
     "execution_count": 85,
     "metadata": {},
     "output_type": "execute_result"
    }
   ],
   "source": [
    "img = cv2.imread('screenshots\\image.tif', cv2.IMREAD_GRAYSCALE)\n",
    "positions = get_winner_pos(img)\n",
    "pos = positions[0]"
   ]
  },
  {
   "cell_type": "code",
   "execution_count": 112,
   "metadata": {},
   "outputs": [
    {
     "data": {
      "image/png": "[encoded data removed]",
      "text/plain": [
       "<Figure size 640x480 with 1 Axes>"
      ]
     },
     "metadata": {},
     "output_type": "display_data"
    }
   ],
   "source": [
    "def get_T1_img(img):\n",
    "    p1 = 30, 0\n",
    "    p2 = 100,150\n",
    "    return img[pos[0]+p1[0]:pos[0]+p2[0], pos[1]+p1[1]:pos[1]+p2[1]]\n",
    "def get_T2_img(img):\n",
    "    p1 = 90, 0\n",
    "    p2 = 160,150\n",
    "    return img[pos[0]+p1[0]:pos[0]+p2[0], pos[1]+p1[1]:pos[1]+p2[1]]"
   ]
  },
  {
   "cell_type": "code",
   "execution_count": 123,
   "metadata": {},
   "outputs": [
    {
     "data": {
      "text/plain": [
       "{'ENCE ESports': [1.62], 'Complexity Gaming': [2.21]}"
      ]
     },
     "execution_count": 123,
     "metadata": {},
     "output_type": "execute_result"
    }
   ],
   "source": [
    "def append_dict(img):\n",
    "    i1 = get_T1_img(img)\n",
    "    i2 = get_T2_img(img)\n",
    "    strings = pytesseract.image_to_string(i1).split(\"\\n\"), pytesseract.image_to_string(i2).split(\"\\n\")\n",
    "    team1 = strings[0][0]\n",
    "    team2 = strings[1][0]\n",
    "    dict = {team1: [], team2: []}\n",
    "    for i in range(int(len(strings)/2)):\n",
    "        team1_str = strings[2*i][1]\n",
    "        team2_str = strings[2*i+1][1]\n",
    "        if '.' not in team1_str and team2_str >1.1:\n",
    "            team1_str = team1_str[:1] + '.' + team1_str[1:] \n",
    "        if '.' not in team2_str and team1_str >1.1:\n",
    "            team2_str = team2_str[:1] + '.' + team2_str[1:]\n",
    "        team1_odds = float(team1_str)\n",
    "        team2_odds = float(team2_str)\n",
    "        dict[team1].append(team1_odds)\n",
    "        dict[team2].append(team2_odds)\n"
   ]
  },
  {
   "cell_type": "code",
   "execution_count": null,
   "metadata": {},
   "outputs": [],
   "source": []
  }
 ],
 "metadata": {
  "kernelspec": {
   "display_name": "Python 3",
   "language": "python",
   "name": "python3"
  },
  "language_info": {
   "codemirror_mode": {
    "name": "ipython",
    "version": 3
   },
   "file_extension": ".py",
   "mimetype": "text/x-python",
   "name": "python",
   "nbconvert_exporter": "python",
   "pygments_lexer": "ipython3",
   "version": "3.10.9"
  },
  "orig_nbformat": 4,
  "vscode": {
   "interpreter": {
    "hash": "bcf8e11836f3f225d3e2e86288e553bdf31d4ba035a45519174934df933a3626"
   }
  }
 },
 "nbformat": 4,
 "nbformat_minor": 2
}
